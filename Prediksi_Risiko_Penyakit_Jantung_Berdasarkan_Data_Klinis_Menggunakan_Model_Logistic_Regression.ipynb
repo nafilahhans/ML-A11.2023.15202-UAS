{
  "nbformat": 4,
  "nbformat_minor": 0,
  "metadata": {
    "colab": {
      "provenance": [],
      "include_colab_link": true
    },
    "kernelspec": {
      "name": "python3",
      "display_name": "Python 3"
    },
    "language_info": {
      "name": "python"
    }
  },
  "cells": [
    {
      "cell_type": "markdown",
      "metadata": {
        "id": "view-in-github",
        "colab_type": "text"
      },
      "source": [
        "<a href=\"https://colab.research.google.com/github/nafilahhans/ML-A11.2023.15202-UAS/blob/main/Prediksi_Risiko_Penyakit_Jantung_Berdasarkan_Data_Klinis_Menggunakan_Model_Logistic_Regression.ipynb\" target=\"_parent\"><img src=\"https://colab.research.google.com/assets/colab-badge.svg\" alt=\"Open In Colab\"/></a>"
      ]
    },
    {
      "cell_type": "markdown",
      "source": [
        "# Prediksi Risiko Penyakit Jantung Berdasarkan Data Klinis Menggunakan Model Logistic Regression"
      ],
      "metadata": {
        "id": "hkQ1Ugm_5B1_"
      }
    },
    {
      "cell_type": "markdown",
      "source": [
        "**Nama :** [HANI NAFILAH]  \n",
        "**Nim :** [A11.2023.15202]  \n"
      ],
      "metadata": {
        "id": "sxTQrK3T5F61"
      }
    },
    {
      "cell_type": "code",
      "execution_count": null,
      "metadata": {
        "id": "E6NlAGUO14Rw"
      },
      "outputs": [],
      "source": [
        "import pandas as pd\n",
        "import numpy as np\n",
        "import matplotlib.pyplot as plt\n",
        "import seaborn as sns\n",
        "\n",
        "from sklearn.model_selection import train_test_split\n",
        "from sklearn.preprocessing import StandardScaler\n",
        "from sklearn.linear_model import LogisticRegression\n",
        "from sklearn.metrics import classification_report, confusion_matrix, accuracy_score"
      ]
    },
    {
      "cell_type": "markdown",
      "source": [
        "## 1. Pendahuluan"
      ],
      "metadata": {
        "id": "UgbaSHxs5MuU"
      }
    },
    {
      "cell_type": "markdown",
      "source": [
        "### 1.1. Ringkasan Permasalahan"
      ],
      "metadata": {
        "id": "rH22GMPu5Q9W"
      }
    },
    {
      "cell_type": "markdown",
      "source": [
        "Penyakit jantung merupakan salah satu penyebab kematian paling tinggi di dunia. Banyak kasus terjadi akibat faktor-faktor seperti tekanan darah tinggi, kadar kolesterol tinggi, diabetes, dan pola hidup tidak sehat. Deteksi dini terhadap risiko penyakit jantung sangat penting untuk mencegah komplikasi yang lebih serius.\n",
        "\n",
        "Dalam era digital, penggunaan data klinis pasien seperti usia, tekanan darah, denyut jantung maksimum, kadar kolesterol, dan hasil EKG dapat dimanfaatkan untuk memprediksi risiko penyakit jantung secara otomatis dengan bantuan machine learning."
      ],
      "metadata": {
        "id": "CPAlfs7r5TvV"
      }
    },
    {
      "cell_type": "markdown",
      "source": [
        "### 1.2. Tujuan"
      ],
      "metadata": {
        "id": "u7Q15JoG5VYH"
      }
    },
    {
      "cell_type": "markdown",
      "source": [
        "1. Membangun model prediktif untuk mengklasifikasikan apakah seorang pasien memiliki risiko penyakit jantung.\n",
        "2. Mengevaluasi performa model Logistic Regression dalam mendeteksi pasien berisiko.\n",
        "3. Memberikan dasar data-driven untuk rekomendasi medis lanjutan atau pencegahan."
      ],
      "metadata": {
        "id": "_tDfI2A85Wts"
      }
    },
    {
      "cell_type": "markdown",
      "source": [
        "### 1.3. Alur Penyelesaian"
      ],
      "metadata": {
        "id": "NVEw4cgi5ZFF"
      }
    },
    {
      "cell_type": "markdown",
      "source": [
        "Berikut adalah alur yang dilakukan dalam proyek ini:\n",
        "\n",
        "1. **Eksplorasi Dataset**  \n",
        "   - Pembersihan data  \n",
        "   - Analisis distribusi fitur dan target  \n",
        "   - Korelasi antar fitur\n",
        "\n",
        "2. **Preprocessing**  \n",
        "   - Standarisasi fitur numerik  \n",
        "   - Split data menjadi train dan test\n",
        "\n",
        "3. **Modeling**  \n",
        "   - Training model menggunakan Logistic Regression\n",
        "   - Evaluasi dengan confusion matrix dan classification report\n",
        "\n",
        "4. **Analisis Hasil**  \n",
        "   - Interpretasi performa model  \n",
        "   - Diskusi kekuatan dan keterbatasan model"
      ],
      "metadata": {
        "id": "XGNAUwLI5a2a"
      }
    },
    {
      "cell_type": "markdown",
      "source": [
        "### 1.4 Penjelasan Dataset"
      ],
      "metadata": {
        "id": "EoRaTvPl5iOj"
      }
    },
    {
      "cell_type": "markdown",
      "source": [
        "\n",
        "| Fitur        | Deskripsi                                                                                  |\n",
        "| ------------ | ------------------------------------------------------------------------------------------ |\n",
        "| **age**      | Usia pasien dalam satuan tahun.                                                            |\n",
        "| **sex**      | Jenis kelamin pasien (0 = perempuan, 1 = laki-laki).                                       |\n",
        "| **cp**       | Tipe nyeri dada (chest pain type):                                                         |\n",
        "|              | - 0: Typical angina (nyeri dada akibat gangguan jantung koroner)                           |\n",
        "|              | - 1: Atypical angina (nyeri dada tidak biasa)                                              |\n",
        "|              | - 2: Non-anginal pain (nyeri bukan karena jantung)                                         |\n",
        "|              | - 3: Asymptomatic (tanpa gejala)                                                           |\n",
        "| **trestbps** | Tekanan darah saat istirahat (resting blood pressure) dalam mm Hg.                         |\n",
        "| **chol**     | Kadar kolesterol dalam darah dalam mg/dl (serum cholesterol).                              |\n",
        "| **fbs**      | Gula darah puasa > 120 mg/dl (1 = ya, 0 = tidak).                                          |\n",
        "| **restecg**  | Hasil pemeriksaan elektrokardiografi saat istirahat (resting ECG):                         |\n",
        "|              | - 0: Normal                                                                                |\n",
        "|              | - 1: Menunjukkan abnormalitas gelombang ST-T (misalnya inversi ST atau elevasi/depresi ST) |\n",
        "|              | - 2: Menunjukkan hipertrofi ventrikel kiri (LVH)                                           |\n",
        "| **thalach**  | Denyut jantung maksimum yang dicapai selama uji latihan fisik.                             |\n",
        "| **exang**    | Apakah pasien mengalami angina (nyeri dada) akibat olahraga? (1 = ya, 0 = tidak).          |\n",
        "| **oldpeak**  | Penurunan segmen ST yang diinduksi oleh latihan relatif terhadap saat istirahat.           |\n",
        "| **slope**    | Kemiringan segmen ST selama fase latihan:                                                  |\n",
        "|              | - 0: Menurun                                                                               |\n",
        "|              | - 1: Datar                                                                                 |\n",
        "|              | - 2: Meningkat                                                                             |\n",
        "| **ca**       | Jumlah pembuluh darah utama (0 sampai 3) yang terlihat berwarna dengan teknik fluoroskopi. |\n",
        "| **thal**     | Hasil tes thalium:                                                                         |\n",
        "|              | - 0: Normal                                                                                |\n",
        "|              | - 1: Cacat tetap (fixed defect)                                                            |\n",
        "|              | - 2: Cacat reversibel (reversable defect)                                                  |\n",
        "| **target**   | Diagnosis akhir:                                                                           |\n",
        "|              | - 0: Tidak memiliki penyakit jantung                                                       |\n",
        "|              | - 1: Memiliki penyakit jantung (positif)                                                   |\n",
        "\n"
      ],
      "metadata": {
        "id": "SVLrul8r50jK"
      }
    },
    {
      "cell_type": "code",
      "source": [
        "df = pd.read_csv('heart.csv.xls')\n",
        "df.head()"
      ],
      "metadata": {
        "id": "AnNwj3sG2D--"
      },
      "execution_count": null,
      "outputs": []
    },
    {
      "cell_type": "markdown",
      "source": [
        "## 2. Exploratory Data Analysis"
      ],
      "metadata": {
        "id": "doetKVog28dX"
      }
    },
    {
      "cell_type": "markdown",
      "source": [
        "### 2.1. Distribusi Fitur Target"
      ],
      "metadata": {
        "id": "ja8WYz1Z3A0s"
      }
    },
    {
      "cell_type": "code",
      "source": [
        "sns.countplot(x='target', data=df)\n",
        "plt.title('Distribusi Target Penyakit Jantung')\n",
        "plt.xlabel('Target (0 = Tidak Sakit, 1 = Sakit)')\n",
        "plt.ylabel('Jumlah')\n",
        "plt.show()"
      ],
      "metadata": {
        "id": "PImV4lIp2-zH"
      },
      "execution_count": null,
      "outputs": []
    },
    {
      "cell_type": "markdown",
      "source": [
        "### 2.2. Distribusi Fitur Numerik"
      ],
      "metadata": {
        "id": "9_3h9H8_3Gj5"
      }
    },
    {
      "cell_type": "code",
      "source": [
        "numeric_features = ['age', 'trestbps', 'chol', 'thalach', 'oldpeak']\n",
        "\n",
        "for col in numeric_features:\n",
        "    plt.figure()\n",
        "    sns.histplot(df[col], kde=True, bins=30)\n",
        "    plt.title(f'Distribusi {col}')\n",
        "    plt.xlabel(col)\n",
        "    plt.ylabel('Frekuensi')\n",
        "    plt.show()"
      ],
      "metadata": {
        "id": "kMlyX_Ay3JzO"
      },
      "execution_count": null,
      "outputs": []
    },
    {
      "cell_type": "markdown",
      "source": [
        "### 2.3. Distribusi Fitur Kategorikal"
      ],
      "metadata": {
        "id": "iXmtSPIv3MUH"
      }
    },
    {
      "cell_type": "code",
      "source": [
        "categorical_features = ['sex', 'cp', 'fbs', 'restecg', 'exang', 'slope', 'ca', 'thal']\n",
        "\n",
        "for col in categorical_features:\n",
        "    plt.figure()\n",
        "    sns.countplot(x=col, data=df, hue='target')\n",
        "    plt.title(f'Distribusi {col} berdasarkan Target')\n",
        "    plt.xlabel(col)\n",
        "    plt.ylabel('Jumlah')\n",
        "    plt.legend(title='Target', labels=['Tidak Sakit', 'Sakit'])\n",
        "    plt.show()"
      ],
      "metadata": {
        "id": "fGGUYkm53R27"
      },
      "execution_count": null,
      "outputs": []
    },
    {
      "cell_type": "markdown",
      "source": [
        "### 2.4. Korelasi Antar Fitur"
      ],
      "metadata": {
        "id": "mPYthGkO3VwG"
      }
    },
    {
      "cell_type": "code",
      "source": [
        "plt.figure(figsize=(12, 10))\n",
        "sns.heatmap(df.corr(), annot=True, fmt=\".2f\", cmap=\"coolwarm\")\n",
        "plt.title(\"Matriks Korelasi\")\n",
        "plt.show()"
      ],
      "metadata": {
        "id": "OE8sqm6i3XtQ"
      },
      "execution_count": null,
      "outputs": []
    },
    {
      "cell_type": "markdown",
      "source": [
        "## 3. Preprocessing"
      ],
      "metadata": {
        "id": "hNInkZFC3ghr"
      }
    },
    {
      "cell_type": "markdown",
      "source": [
        "### 3.1. Memisahkan Fitur dan Target"
      ],
      "metadata": {
        "id": "-WxwZwje3iFY"
      }
    },
    {
      "cell_type": "code",
      "source": [
        "X = df.drop('target', axis=1)\n",
        "y = df['target']"
      ],
      "metadata": {
        "id": "66LI42hR3lHZ"
      },
      "execution_count": null,
      "outputs": []
    },
    {
      "cell_type": "markdown",
      "source": [
        "### 3.2. Pembagian Data Latih dan Uji"
      ],
      "metadata": {
        "id": "FaA-1PAs3maO"
      }
    },
    {
      "cell_type": "code",
      "source": [
        "X_train, X_test, y_train, y_test = train_test_split(\n",
        "    X, y, test_size=0.3, random_state=42, stratify=y\n",
        ")\n",
        "\n",
        "print(\"Ukuran Data:\")\n",
        "print(\"Train:\", X_train.shape)\n",
        "print(\"Test :\", X_test.shape)"
      ],
      "metadata": {
        "id": "UKoYOpwT3pY2"
      },
      "execution_count": null,
      "outputs": []
    },
    {
      "cell_type": "markdown",
      "source": [
        "### 3.3. Standarisasi Fitur Numerik"
      ],
      "metadata": {
        "id": "AVctsgQr3rNg"
      }
    },
    {
      "cell_type": "code",
      "source": [
        "scaler = StandardScaler()\n",
        "\n",
        "# Terapkan hanya pada data numerik\n",
        "X_train_scaled = scaler.fit_transform(X_train)\n",
        "X_test_scaled = scaler.transform(X_test)\n",
        "\n",
        "# Konversi ke DataFrame jika ingin visualisasi atau inspeksi lebih lanjut\n",
        "X_train_scaled_df = pd.DataFrame(X_train_scaled, columns=X.columns)\n",
        "X_test_scaled_df = pd.DataFrame(X_test_scaled, columns=X.columns)"
      ],
      "metadata": {
        "id": "-zt07Ykm3viC"
      },
      "execution_count": null,
      "outputs": []
    },
    {
      "cell_type": "markdown",
      "source": [
        "## 4. Pemodelan"
      ],
      "metadata": {
        "id": "e4wsyhNn3zXD"
      }
    },
    {
      "cell_type": "markdown",
      "source": [
        "### 4.1. Pembangunan dan Pelatihan Model"
      ],
      "metadata": {
        "id": "wbM7z27g36IN"
      }
    },
    {
      "cell_type": "code",
      "source": [
        "# Inisialisasi model\n",
        "model = LogisticRegression(max_iter=1000, random_state=42)\n",
        "\n",
        "# Training model\n",
        "model.fit(X_train_scaled, y_train)"
      ],
      "metadata": {
        "id": "YOiteVyU31oY"
      },
      "execution_count": null,
      "outputs": []
    },
    {
      "cell_type": "code",
      "source": [
        "# Prediksi terhadap data test\n",
        "y_pred = model.predict(X_test_scaled)"
      ],
      "metadata": {
        "id": "HIXWG2kE34Md"
      },
      "execution_count": null,
      "outputs": []
    },
    {
      "cell_type": "markdown",
      "source": [
        "### 4.2. Evaluasi Model"
      ],
      "metadata": {
        "id": "52RVF9Qj38s-"
      }
    },
    {
      "cell_type": "code",
      "source": [
        "print(\"Classification Report:\")\n",
        "print(classification_report(y_test, y_pred))"
      ],
      "metadata": {
        "id": "qMkFVLDV3-Zr"
      },
      "execution_count": null,
      "outputs": []
    },
    {
      "cell_type": "code",
      "source": [
        "# Hitung confusion matrix\n",
        "cm = confusion_matrix(y_test, y_pred)\n",
        "labels = ['Tidak Sakit', 'Sakit']\n",
        "\n",
        "# Buat heatmap\n",
        "plt.figure(figsize=(6, 4))\n",
        "sns.heatmap(cm, annot=True, fmt='d', cmap='Blues',\n",
        "            xticklabels=labels, yticklabels=labels)\n",
        "\n",
        "plt.xlabel('Prediksi')\n",
        "plt.ylabel('Aktual')\n",
        "plt.title('Confusion Matrix')\n",
        "plt.show()"
      ],
      "metadata": {
        "id": "0SY1Bs_g4Xzc"
      },
      "execution_count": null,
      "outputs": []
    },
    {
      "cell_type": "markdown",
      "source": [
        "## 5. Diskusi Hasil dan Kesimpulan"
      ],
      "metadata": {
        "id": "k5Z7QQa56P0a"
      }
    },
    {
      "cell_type": "markdown",
      "source": [
        "### 5.1. Diskusi Hasil\n",
        "\n",
        "Model yang digunakan adalah **Logistic Regression**, sebuah algoritma linier yang sering dijadikan baseline untuk klasifikasi biner karena sifatnya yang sederhana dan interpretatif.\n",
        "\n",
        "Berdasarkan hasil evaluasi:\n",
        "\n",
        "- **Akurasi** model mencapai **99%**, yang menunjukkan performa klasifikasi yang sangat tinggi.\n",
        "\n",
        "- **Confusion matrix**:\n",
        "\n",
        "  - Semua **150 pasien yang tidak sakit** diklasifikasikan dengan benar (**true negative**).\n",
        "  - **155 dari 158 pasien yang sakit** juga diklasifikasikan dengan benar (**true positive**).\n",
        "  - Hanya terdapat **3 kasus false negative**, yaitu pasien sakit yang tidak terdeteksi.\n",
        "\n",
        "- **Classification report**:\n",
        "\n",
        "  - **Kelas 0 (Tidak Sakit)**: precision 0.98, recall 1.00\n",
        "  - **Kelas 1 (Sakit)**: precision 1.00, recall 0.98\n",
        "  - F1-score untuk kedua kelas adalah 0.99\n",
        "  - Macro dan weighted average juga 0.99, menandakan bahwa model bekerja konsisten di seluruh kelas\n",
        "\n"
      ],
      "metadata": {
        "id": "bohuhwe26TIZ"
      }
    },
    {
      "cell_type": "markdown",
      "source": [
        "### 5.2. Kesimpulan\n",
        "\n",
        "- Logistic Regression terbukti sangat efektif dan akurat pada dataset penyakit jantung ini, dengan hasil evaluasi yang sangat tinggi dan distribusi kesalahan yang minimal.\n",
        "- Model ini cocok dijadikan **baseline model yang cepat dan efisien** untuk prediksi risiko penyakit jantung.\n",
        "- Karena Logistic Regression juga **mudah diinterpretasikan**, model ini dapat digunakan dalam sistem klinis di mana **transparansi pengambilan keputusan sangat penting**."
      ],
      "metadata": {
        "id": "lVYwwPDZ6dZB"
      }
    },
    {
      "cell_type": "code",
      "source": [
        "import ipywidgets as widgets\n",
        "from IPython.display import display, clear_output"
      ],
      "metadata": {
        "id": "WRm8JOj26tEm"
      },
      "execution_count": null,
      "outputs": []
    },
    {
      "cell_type": "code",
      "source": [
        "# Buat input widgets\n",
        "age = widgets.IntSlider(min=20, max=90, step=1, description='Age:', value=50)\n",
        "sex = widgets.Dropdown(options=[('Laki-laki', 1), ('Perempuan', 0)], description='Sex:')\n",
        "cp = widgets.Dropdown(options=[('Typical Angina', 0), ('Atypical Angina', 1), ('Non-anginal', 2), ('Asymptomatic', 3)], description='Chest Pain:')\n",
        "trestbps = widgets.IntSlider(min=80, max=200, step=1, description='Rest BP:', value=120)\n",
        "chol = widgets.IntSlider(min=100, max=600, step=1, description='Chol:', value=240)\n",
        "fbs = widgets.Dropdown(options=[('<= 120 mg/dl', 0), ('> 120 mg/dl', 1)], description='FBS:')\n",
        "restecg = widgets.Dropdown(options=[('Normal', 0), ('ST-T abnormality', 1), ('LVH', 2)], description='Rest ECG:')\n",
        "thalach = widgets.IntSlider(min=60, max=220, step=1, description='Max HR:', value=150)\n",
        "exang = widgets.Dropdown(options=[('Tidak', 0), ('Ya', 1)], description='Exercise Angina:')\n",
        "oldpeak = widgets.FloatSlider(min=0.0, max=6.0, step=0.1, description='Oldpeak:', value=1.0)\n",
        "slope = widgets.Dropdown(options=[('Downsloping', 0), ('Flat', 1), ('Upsloping', 2)], description='Slope:')\n",
        "ca = widgets.IntSlider(min=0, max=3, step=1, description='CA:', value=0)\n",
        "thal = widgets.Dropdown(options=[('Normal', 0), ('Fixed Defect', 1), ('Reversible Defect', 2)], description='Thal:')\n",
        "\n",
        "# Tombol prediksi\n",
        "predict_button = widgets.Button(description='Prediksi', button_style='success')\n",
        "\n",
        "# Output area\n",
        "output = widgets.Output()\n",
        "\n",
        "# Fungsi prediksi\n",
        "def predict_disease(btn):\n",
        "    input_dict = {\n",
        "        'age': [age.value],\n",
        "        'sex': [sex.value],\n",
        "        'cp': [cp.value],\n",
        "        'trestbps': [trestbps.value],\n",
        "        'chol': [chol.value],\n",
        "        'fbs': [fbs.value],\n",
        "        'restecg': [restecg.value],\n",
        "        'thalach': [thalach.value],\n",
        "        'exang': [exang.value],\n",
        "        'oldpeak': [oldpeak.value],\n",
        "        'slope': [slope.value],\n",
        "        'ca': [ca.value],\n",
        "        'thal': [thal.value]\n",
        "    }\n",
        "\n",
        "    input_df = pd.DataFrame(input_dict)\n",
        "    input_scaled = scaler.transform(input_df)\n",
        "    pred = model.predict(input_scaled)[0]\n",
        "\n",
        "    with output:\n",
        "        clear_output()\n",
        "        print(\"Hasil Prediksi:\")\n",
        "        if pred == 1:\n",
        "            print(\"Pasien berisiko penyakit jantung.\")\n",
        "        else:\n",
        "            print(\"Pasien tidak berisiko penyakit jantung.\")\n",
        "\n",
        "# Event handler\n",
        "predict_button.on_click(predict_disease)\n",
        "\n",
        "# Tampilkan form input\n",
        "form_items = widgets.VBox([\n",
        "    age, sex, cp, trestbps, chol, fbs, restecg, thalach,\n",
        "    exang, oldpeak, slope, ca, thal, predict_button, output\n",
        "])\n",
        "\n",
        "# Menampilkan form\n",
        "display(form_items)"
      ],
      "metadata": {
        "id": "2HJVPpw_6SL1"
      },
      "execution_count": null,
      "outputs": []
    }
  ]
}